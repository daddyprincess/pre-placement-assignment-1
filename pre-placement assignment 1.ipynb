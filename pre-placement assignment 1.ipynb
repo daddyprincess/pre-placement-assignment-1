{
 "cells": [
  {
   "cell_type": "markdown",
   "id": "1a3dbd14-6f0c-4b11-8dbc-2110e0a77810",
   "metadata": {},
   "source": [
    "## 1.two sums"
   ]
  },
  {
   "cell_type": "code",
   "execution_count": 9,
   "id": "a5e759df-408b-43ae-8dcb-688086dee6b9",
   "metadata": {},
   "outputs": [
    {
     "name": "stdout",
     "output_type": "stream",
     "text": [
      "[0, 1]\n"
     ]
    }
   ],
   "source": [
    "def twosum (nums, target):\n",
    "    num_dict = {} # create a dictionary to store numbers and their indices\n",
    "    \n",
    "    for i, num in enumerate (nums):\n",
    "        complement = target -num #calculate the complement of the current number\n",
    "        \n",
    "        #check if the complement exists in the dictionary \n",
    "        if complement in num_dict:\n",
    "            return [num_dict[complement],i] #return the indices of the two numbers\n",
    "        \n",
    "        num_dict[num] = i #add the current number to the dictionary\n",
    "        \n",
    "        # if no solution is found, return an empty list or raise an exception\n",
    "    return []\n",
    "\n",
    "\n",
    "nums = [2,7,11,15]\n",
    "target = 9\n",
    "result = twosum(nums,target)\n",
    "print(result)\n"
   ]
  },
  {
   "cell_type": "markdown",
   "id": "1d87ddf0-d377-4b7a-8456-e0f4e7f87b02",
   "metadata": {},
   "source": [
    "## 2.remove element"
   ]
  },
  {
   "cell_type": "code",
   "execution_count": 12,
   "id": "d7be48c4-f53e-447d-b32a-cf1277ae4870",
   "metadata": {},
   "outputs": [
    {
     "name": "stdout",
     "output_type": "stream",
     "text": [
      "2\n",
      "[2, 2, 2, 3]\n"
     ]
    }
   ],
   "source": [
    "def removeElement(nums,val):\n",
    "    k=0 #variable to track the count of elemnets not equal to val\n",
    "    \n",
    "    for i in range(len(nums)):\n",
    "        if nums[i] !=val:\n",
    "            nums[k] =nums[i]#move to element to the left side of the array \n",
    "            k+=1 # increment the count of elements not equal to val \n",
    "            \n",
    "    return k\n",
    "\n",
    "nums = [3,2,2,3]\n",
    "val =3\n",
    "k= removeElement(nums,val)\n",
    "print(k)\n",
    "print(nums)"
   ]
  },
  {
   "cell_type": "code",
   "execution_count": null,
   "id": "bf822871-1e44-4dc3-ae95-a784f05199e1",
   "metadata": {},
   "outputs": [],
   "source": [
    "in the modified array 'nums' ,the first 'k' elements contain the elements that are not equal to 'val'. The remaining elements \n",
    "after index'k' are not important ,and their values can be anything.The function returns the value of 'k', which represent the \n",
    "count of elements not equal to'val'."
   ]
  },
  {
   "cell_type": "markdown",
   "id": "5906296d-9f13-4505-a61f-3bf5e2b1887e",
   "metadata": {},
   "source": [
    "## 3.search insert"
   ]
  },
  {
   "cell_type": "code",
   "execution_count": 15,
   "id": "831cbdd9-3efa-4a46-b6dc-e7fd85d49b58",
   "metadata": {},
   "outputs": [
    {
     "name": "stdout",
     "output_type": "stream",
     "text": [
      "2\n"
     ]
    }
   ],
   "source": [
    "def searchInsert (nums,target):\n",
    "    left =0\n",
    "    right = len(nums) -1\n",
    "    \n",
    "    while left <= right:\n",
    "        mid = left +(right - left)//2 #ca;culate the middle index\n",
    "        \n",
    "        if nums[mid] == target:\n",
    "            return mid #target found at index mid\n",
    "        \n",
    "        if nums[mid] < target:\n",
    "            left = mid+1# search the right half\n",
    "        else:\n",
    "            right = mid -1 # search the left half\n",
    "            \n",
    "    return left # target not found,return the insertion index\n",
    "\n",
    "nums = [1,3,5,6]\n",
    "target = 5\n",
    "index = searchInsert(nums,target)\n",
    "print(index)\n",
    "            "
   ]
  },
  {
   "cell_type": "markdown",
   "id": "39f18840-8f74-40c3-a754-ccdc4ae87193",
   "metadata": {},
   "source": [
    "## 4.plus one"
   ]
  },
  {
   "cell_type": "code",
   "execution_count": 18,
   "id": "230595b4-7844-4b52-a03d-86e724d61565",
   "metadata": {},
   "outputs": [
    {
     "name": "stdout",
     "output_type": "stream",
     "text": [
      "[1, 2, 4]\n"
     ]
    }
   ],
   "source": [
    "def plusOne (digits):\n",
    "    n = len(digits)\n",
    "    \n",
    "    #traverse the digits in reverse order\n",
    "    for i in range (n -1, -1, -1):\n",
    "        if digits[i]<9:\n",
    "            digits [i] += 1 #increment the current digits\n",
    "            return digits\n",
    "        \n",
    "        digits[i] = 0 # set the current digit to 0 if it was 9\n",
    "        \n",
    "    # if all digits are 9,a new digit 1 needs to be added at the beginning\n",
    "    digits.insert(0,1)\n",
    "    return digits\n",
    "\n",
    "digits = [1,2,3]\n",
    "result = plusOne(digits)\n",
    "print(result)"
   ]
  },
  {
   "cell_type": "code",
   "execution_count": null,
   "id": "d5d3802e-5f8f-4c9e-b5a4-6b0de98d4009",
   "metadata": {},
   "outputs": [],
   "source": [
    "In the giuven example, the array 'digits' represents the integer 123.By incrementing it by one,we get 123+1 =124. The resulting\n",
    "array of digits is [1,2,4]."
   ]
  },
  {
   "cell_type": "markdown",
   "id": "964cd87d-ae66-4c9c-915c-44bfcb699641",
   "metadata": {},
   "source": [
    "## 5.merge"
   ]
  },
  {
   "cell_type": "code",
   "execution_count": 20,
   "id": "d19dde29-59a9-434f-b164-40ae7d59f0d8",
   "metadata": {},
   "outputs": [
    {
     "name": "stdout",
     "output_type": "stream",
     "text": [
      "[2, 2, 5, 3, 5, 6]\n"
     ]
    }
   ],
   "source": [
    "def merge (nums1,m,nums2,n):\n",
    "    # intialize pointers for nums1,nums2 and the merged array\n",
    "    p1 = m-1\n",
    "    p2 = n-1\n",
    "    p = m+n-1\n",
    "    #iterate through the arrays from the end\n",
    "    while p1>=0 and p2>=0:\n",
    "        if nums1[p1] > nums2[p2]:\n",
    "            nums1[p] = nums1[p1] # place the larger element in num1\n",
    "            p1 -= 1\n",
    "        else:\n",
    "            nums1[p] = nums2[p2] # place the larger element in num1\n",
    "            p2 -= 1\n",
    "        p -=1\n",
    "        \n",
    "        # if the element remain in nums2,they should be placed in num1\n",
    "        nums1[:p2 + 1] = nums2[:p2 +1]\n",
    "        \n",
    "nums1 = [1,2,3,0,0,0]\n",
    "m = 3\n",
    "nums2 = [2,5,6]\n",
    "n = 3\n",
    "merge(nums1,m,nums2,n)\n",
    "print(nums1)"
   ]
  },
  {
   "cell_type": "code",
   "execution_count": null,
   "id": "8cb91483-37bd-43af-9972-5efdc262db77",
   "metadata": {},
   "outputs": [],
   "source": [
    "IN the given example 'nums1' intially contains the merged elements'[1,2,3]' followed by three zeroes'[0,0,0]'which should be \n",
    "ignored.The 'nums2'array contains the elements '[2,5,6]'.After merging 'nums2' into 'nums1', the resulting sorted array stored \n",
    "in 'nums1' is '[1,2,2,3,5,6]'."
   ]
  },
  {
   "cell_type": "markdown",
   "id": "180d8a9f-9600-42ea-8c51-cd42810bb3f3",
   "metadata": {},
   "source": [
    "## 6.contains duplicate"
   ]
  },
  {
   "cell_type": "code",
   "execution_count": 47,
   "id": "3361465a-00d2-4b4d-a988-a2152503e282",
   "metadata": {},
   "outputs": [
    {
     "name": "stdout",
     "output_type": "stream",
     "text": [
      "True\n"
     ]
    }
   ],
   "source": [
    "def containsDuplicate(nums):\n",
    "    num_set = set() \n",
    "    \n",
    "    for num in nums:\n",
    "        if num in num_set:\n",
    "            return False #   duplicate value found\n",
    "        num_set.add(num) # add  value to  set\n",
    "        \n",
    "        return True # no duplicate value found\n",
    "    \n",
    "nums = [1,2,3,1]\n",
    "result = containsDuplicate(nums)\n",
    "print(result)\n",
    "    "
   ]
  },
  {
   "cell_type": "markdown",
   "id": "80f76209-8977-4208-b65e-fd3e697f4a06",
   "metadata": {},
   "source": [
    "## 7.move zeroes"
   ]
  },
  {
   "cell_type": "code",
   "execution_count": 26,
   "id": "66d35023-133d-45da-87de-03a168e1c7df",
   "metadata": {},
   "outputs": [
    {
     "name": "stdout",
     "output_type": "stream",
     "text": [
      "[1, 3, 12, 0, 0]\n"
     ]
    }
   ],
   "source": [
    "def moveZeroes(nums):\n",
    "    p1 = 0 #pointer to track the position to swap non-zero elements\n",
    "    \n",
    "    #iterative through the array\n",
    "    for p2 in range (len(nums)):\n",
    "        if nums[p2] != 0:\n",
    "            # swap non-zero element with the current position\n",
    "            nums[p1],nums[p2] = nums[p2],nums[p1]\n",
    "            p1 +=1\n",
    "            \n",
    "nums = [0,1,0,3,12]\n",
    "moveZeroes(nums)\n",
    "print(nums)"
   ]
  },
  {
   "cell_type": "markdown",
   "id": "7ac504ba-3d25-4e70-89e7-a75020e5d065",
   "metadata": {},
   "source": [
    "## 8.find error nums"
   ]
  },
  {
   "cell_type": "code",
   "execution_count": 42,
   "id": "49884c72-fe0f-4310-a680-0ea09e871ef7",
   "metadata": {},
   "outputs": [
    {
     "name": "stdout",
     "output_type": "stream",
     "text": [
      "[2, 3]\n"
     ]
    }
   ],
   "source": [
    "def findErrorNums(nums):\n",
    "    n = len(nums)\n",
    "    expected_sum = n *(n+1)//2 # calculate the excepted sum of 1 to n\n",
    "    actual_sum = sum(set(nums)) # calculate the actual sum of unique numbers\n",
    "    \n",
    "    duplicate = sum(nums)-actual_sum # duplicate number =sum of nums - actual sum\n",
    "    missing = expected_sum - actual_sum  # missing number = expected of nums - actual sum\n",
    "        \n",
    "    \n",
    "    return[duplicate, missing]\n",
    "\n",
    "nums = [1,2,2,4]\n",
    "result = findErrorNums(nums)\n",
    "print (result)"
   ]
  }
 ],
 "metadata": {
  "kernelspec": {
   "display_name": "Python 3 (ipykernel)",
   "language": "python",
   "name": "python3"
  },
  "language_info": {
   "codemirror_mode": {
    "name": "ipython",
    "version": 3
   },
   "file_extension": ".py",
   "mimetype": "text/x-python",
   "name": "python",
   "nbconvert_exporter": "python",
   "pygments_lexer": "ipython3",
   "version": "3.10.8"
  }
 },
 "nbformat": 4,
 "nbformat_minor": 5
}
